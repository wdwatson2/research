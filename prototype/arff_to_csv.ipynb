{
 "cells": [
  {
   "cell_type": "code",
   "execution_count": 1,
   "metadata": {},
   "outputs": [],
   "source": [
    "import os\n",
    "import numpy as np\n",
    "import pandas as pd\n",
    "from scipy.io import arff"
   ]
  },
  {
   "cell_type": "code",
   "execution_count": 10,
   "metadata": {},
   "outputs": [
    {
     "name": "stdout",
     "output_type": "stream",
     "text": [
      "Scenario A1\n",
      "Scenario A1\n",
      "Scenario A1\n",
      "Scenario A1\n",
      "Scenario A2\n",
      "Scenario A2\n",
      "Scenario A2\n",
      "Scenario A2\n",
      "Scenario A2\n",
      "Scenario A2\n",
      "Scenario A2\n",
      "Scenario A2\n",
      "Scenario B\n",
      "Scenario B\n",
      "Scenario B\n",
      "Scenario B\n",
      "Scenario B\n",
      "Scenario B\n",
      "Scenario B\n",
      "Scenario B\n"
     ]
    }
   ],
   "source": [
    "parent = r'C:\\Users\\smbm2\\projects\\research\\datasets' #fill in with parent directory where arff files are stored\n",
    "\n",
    "for folder in os.listdir(parent):\n",
    "    folder_parent = os.path.join(parent, folder)\n",
    "    for arff_file in os.listdir(folder_parent):\n",
    "        arff_dataset = os.path.join(folder_parent, arff_file)\n",
    "\n",
    "        data = arff.loadarff(arff_dataset)\n",
    "        df = pd.DataFrame(data[0])\n",
    "        catCols = [col for col in df.columns if df[col].dtype==\"O\"]\n",
    "        df[catCols]=df[catCols].apply(lambda x: x.str.decode('utf8'))\n",
    "\n",
    "        #now we store these as csv files in the folder's that were created to store them\n",
    "        csv_parent = r'C:\\Users\\smbm2\\projects\\research\\csv_datasets'\n",
    "        #folder parent is the same as the ones we created so we can reuse it\n",
    "\n",
    "        #we can name the csv file the same as the arff but with .csv extension\n",
    "        end = arff_file[:-5] + '.csv'\n",
    "\n",
    "        #all together\n",
    "        csv_file = os.path.join(csv_parent, folder, end)\n",
    "        \n",
    "        #save as csv\n",
    "        df.to_csv(csv_file)"
   ]
  }
 ],
 "metadata": {
  "kernelspec": {
   "display_name": "trafficTransformer",
   "language": "python",
   "name": "python3"
  },
  "language_info": {
   "codemirror_mode": {
    "name": "ipython",
    "version": 3
   },
   "file_extension": ".py",
   "mimetype": "text/x-python",
   "name": "python",
   "nbconvert_exporter": "python",
   "pygments_lexer": "ipython3",
   "version": "3.11.4"
  },
  "orig_nbformat": 4
 },
 "nbformat": 4,
 "nbformat_minor": 2
}
